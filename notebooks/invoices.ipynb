{
 "cells": [
  {
   "cell_type": "code",
   "execution_count": 1,
   "metadata": {},
   "outputs": [],
   "source": [
    "(ns trenwand.notebook.invoices\n",
    "    (:require [taoensso.encore :as e]\n",
    "              [cuerdas.core :as str]\n",
    "              [cheshire.core :as json]\n",
    "              [trennwand.data :as data]\n",
    "              [trennwand.invoices :as invoices]\n",
    "              [trennwand.utils :as u]\n",
    "              [net.cgrand.xforms :as x]\n",
    "              [clojupyter.misc.display :as display]\n",
    "              [clojupyter.misc.helper :as helper]))"
   ]
  },
  {
   "cell_type": "code",
   "execution_count": 2,
   "metadata": {},
   "outputs": [
    {
     "data": {
      "text/plain": [
       "\"/home/huxley/Documents/eurocash/s1\""
      ]
     },
     "execution_count": 2,
     "metadata": {},
     "output_type": "execute_result"
    }
   ],
   "source": [
    "(invoices/set-invoices-dir! \"/home/huxley/Documents/eurocash/s1\")"
   ]
  },
  {
   "cell_type": "code",
   "execution_count": 3,
   "metadata": {},
   "outputs": [
    {
     "data": {
      "text/plain": [
       "#'trenwand.notebook.invoices/docs"
      ]
     },
     "execution_count": 3,
     "metadata": {},
     "output_type": "execute_result"
    }
   ],
   "source": [
    "(def docs (data/load-dc1-docs))"
   ]
  },
  {
   "cell_type": "code",
   "execution_count": 4,
   "metadata": {},
   "outputs": [
    {
     "data": {
      "text/plain": [
       "#'trenwand.notebook.invoices/docs1"
      ]
     },
     "execution_count": 4,
     "metadata": {},
     "output_type": "execute_result"
    }
   ],
   "source": [
    "(def docs1 (invoices/get-downloaded-invoices))"
   ]
  },
  {
   "cell_type": "code",
   "execution_count": 5,
   "metadata": {},
   "outputs": [
    {
     "data": {
      "text/plain": [
       "#'trenwand.notebook.invoices/doc-exists?"
      ]
     },
     "execution_count": 5,
     "metadata": {},
     "output_type": "execute_result"
    }
   ],
   "source": [
    "(defn doc-exists? [id]\n",
    "    (not-empty (into []\n",
    "                     (filter #(re-find (re-pattern id) (:doc/id %)))\n",
    "                     docs)))"
   ]
  },
  {
   "cell_type": "code",
   "execution_count": 6,
   "metadata": {},
   "outputs": [
    {
     "data": {
      "text/plain": [
       "#:doc{:date \"2017-06-28\", :type \"Faktura VAT\", :id \"9108146619\"}"
      ]
     },
     "execution_count": 6,
     "metadata": {},
     "output_type": "execute_result"
    }
   ],
   "source": [
    "(first docs)"
   ]
  },
  {
   "cell_type": "code",
   "execution_count": 9,
   "metadata": {},
   "outputs": [
    {
     "data": {
      "text/html": [
       "<table><tr><th>id</th></tr><tr><td>9108935053</td></tr><tr><td>1132245183</td></tr><tr><td>9112099377</td></tr><tr><td>4000377389</td></tr><tr><td>9112192155</td></tr><tr><td>9108931937</td></tr><tr><td>9112192364</td></tr><tr><td>1124655682</td></tr><tr><td>9109498625</td></tr><tr><td>1121775991</td></tr><tr><td>9112192551</td></tr><tr><td>9108770151</td></tr><tr><td>1122425658</td></tr><tr><td>9112192044</td></tr><tr><td>9112185854</td></tr><tr><td>9112192757</td></tr><tr><td>9112182614</td></tr><tr><td>9112099299</td></tr><tr><td>9112099568</td></tr><tr><td>9109611148</td></tr><tr><td>9112193172</td></tr><tr><td>9108791654</td></tr><tr><td>9112192557</td></tr><tr><td>9109031758</td></tr><tr><td>1133433949</td></tr><tr><td>9112162467</td></tr><tr><td>1124809828</td></tr><tr><td>9112192153</td></tr><tr><td>9112099298</td></tr><tr><td>9112192644</td></tr><tr><td>9112192645</td></tr><tr><td>9112162848</td></tr><tr><td>9111260589</td></tr><tr><td>1124711694</td></tr><tr><td>9112096046</td></tr><tr><td>9112193703</td></tr><tr><td>9112099734</td></tr><tr><td>9109219817</td></tr><tr><td>9112193420</td></tr><tr><td>9109918958</td></tr><tr><td>9112185852</td></tr><tr><td>9112193979</td></tr><tr><td>9112096042</td></tr><tr><td>9109611219</td></tr><tr><td>1124809838</td></tr><tr><td>9112185851</td></tr><tr><td>1123336234</td></tr><tr><td>1124806366</td></tr><tr><td>9112099335</td></tr><tr><td>1124154743</td></tr><tr><td>9112192552</td></tr><tr><td>9109514321</td></tr><tr><td>9112188558</td></tr><tr><td>9112192043</td></tr><tr><td>9108791496</td></tr><tr><td>1133650018</td></tr><tr><td>9112193229</td></tr><tr><td>9112192361</td></tr><tr><td>9112099337</td></tr><tr><td>1126218262</td></tr><tr><td>9108913890</td></tr><tr><td>9112195305</td></tr><tr><td>9109219742</td></tr><tr><td>9110901415</td></tr><tr><td>9108834007</td></tr><tr><td>1133733417</td></tr><tr><td>9112185700</td></tr><tr><td>9112099336</td></tr><tr><td>1122418338</td></tr><tr><td>9112099376</td></tr><tr><td>9109498348</td></tr><tr><td>9112096048</td></tr><tr><td>1133733555</td></tr><tr><td>9112193534</td></tr><tr><td>9111762883</td></tr><tr><td>9112185957</td></tr><tr><td>9112162550</td></tr><tr><td>9112193704</td></tr><tr><td>9108775240</td></tr><tr><td>9112192553</td></tr><tr><td>9108315119</td></tr><tr><td>9112192711</td></tr><tr><td>9112193026</td></tr><tr><td>9108827722</td></tr><tr><td>1129225491</td></tr><tr><td>9112099338</td></tr><tr><td>9108917131</td></tr><tr><td>9112185956</td></tr><tr><td>9112193025</td></tr><tr><td>9108831795</td></tr><tr><td>9112192646</td></tr><tr><td>9112072763</td></tr><tr><td>1122418458</td></tr><tr><td>9112192561</td></tr><tr><td>9108412717</td></tr><tr><td>1125374720</td></tr><tr><td>9112190464</td></tr><tr><td>9112165117</td></tr><tr><td>9112193230</td></tr><tr><td>9112193702</td></tr><tr><td>9108440831</td></tr><tr><td>9112193893</td></tr><tr><td>9112192154</td></tr><tr><td>1124655723</td></tr><tr><td>9109418702</td></tr><tr><td>9109291738</td></tr><tr><td>9108782637</td></tr><tr><td>9112192555</td></tr><tr><td>9112193027</td></tr><tr><td>1133545519</td></tr><tr><td>9112192559</td></tr><tr><td>9109418245</td></tr><tr><td>1133399367</td></tr><tr><td>9112192554</td></tr></table>"
      ]
     },
     "execution_count": 9,
     "metadata": {},
     "output_type": "execute_result"
    }
   ],
   "source": [
    "(u/vmap->table [:id] (reduce (fn [acc id] (if-not (doc-exists? id) (conj acc {:id id}) acc)) [] docs1))"
   ]
  }
 ],
 "metadata": {
  "kernelspec": {
   "display_name": "Lein-Clojure",
   "language": "clojure",
   "name": "lein-clojure"
  },
  "language_info": {
   "file_extension": ".clj",
   "mimetype": "text/x-clojure",
   "name": "clojure",
   "version": "1.9.0"
  }
 },
 "nbformat": 4,
 "nbformat_minor": 2
}
